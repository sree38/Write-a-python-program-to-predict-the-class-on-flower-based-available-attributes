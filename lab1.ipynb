{
  "nbformat": 4,
  "nbformat_minor": 0,
  "metadata": {
    "colab": {
      "name": "lab5.ipynb",
      "provenance": [],
      "collapsed_sections": []
    },
    "kernelspec": {
      "name": "python3",
      "display_name": "Python 3"
    },
    "language_info": {
      "name": "python"
    }
  },
  "cells": [
    {
      "cell_type": "markdown",
      "metadata": {
        "id": "LRCpNaE1qDcy"
      },
      "source": [
        "**Write a program to implement k-Nearest Neighbor algorithm to classify the iris data set. Print both correct and wrong predictions**"
      ]
    },
    {
      "cell_type": "markdown",
      "metadata": {
        "id": "FTv1GsPuqSFB"
      },
      "source": [
        "**K-Nearest Neighbor (KNN)**"
      ]
    },
    {
      "cell_type": "markdown",
      "metadata": {
        "id": "9HTTa6ZR0GsS"
      },
      "source": [
        "KNN is simple supervised learning algorithm used for both regression and classification problems.\n",
        "\n",
        "KNN is basically store all available cases and classify new cases based on similaritieswith stored cases.\n",
        "\n",
        "Concept:\n",
        "\n",
        "So the concept that KNN works on is Basically similarities measurements, forexample, if you look at Mango,it is more similar to Apple then dog or cat, then whatKNN will do is put it in the category of fruits not in the category of animals."
      ]
    },
    {
      "cell_type": "markdown",
      "metadata": {
        "id": "k1Fx3iwf0j5w"
      },
      "source": [
        "What happens in KNN,we trained the model and after that we want to test our model ,means we want to classify our new data (test-data),for that we will check\n",
        "some (K) classesaround it and assign the most common class to the test-data.\n",
        "\n",
        "K- Number of nearest neighbors\n",
        "\n",
        "K=1 means the testing data are given the same level as the closet example in training set.\n",
        "\n",
        "K=4 means the labels of the four closet classes are check and most common class is assignto the testing data."
      ]
    },
    {
      "cell_type": "markdown",
      "metadata": {
        "id": "P1lIZzYi09J4"
      },
      "source": [
        "KNN Works\n",
        "\n",
        "Let's understand it with the above given diagram:\n",
        "\n",
        "1. In this diagram we have 2 classes one blue class one red class\n",
        "\n",
        "2. Now we have a new green point, we have to find out whether this point is in class red or blue\n",
        "\n",
        "3. For this, we will define the value of K\n",
        "\n",
        "4. At K= 1, we will see the distance from the green point to the nearest points, and selectthe point with lowest distance and classify the green point in that class, here it red.\n",
        "\n",
        "5. At K=5 We will calculate the distance from the green point to the nearest points andselect the five points with the lowest distance and classify the green point to the mostcommon class, that is red here.\n",
        "\n",
        "6. How to choose the value of K?\n",
        "The value of k is not defined, it depends on the cases."
      ]
    },
    {
      "cell_type": "markdown",
      "metadata": {
        "id": "8mvv4PPk1R5A"
      },
      "source": [
        "Lazy Learner\n",
        "\n",
        "\n",
        "1. KNN is simple algorithm for classification but that's not the reason\n",
        "\n",
        "2. KNN is lazy learner because it doesn't learn a discriminative function from the trainingdata but memorizes the training dataset instead."
      ]
    },
    {
      "cell_type": "markdown",
      "metadata": {
        "id": "zxfBUkk41ejj"
      },
      "source": [
        "**Implementation**"
      ]
    },
    {
      "cell_type": "code",
      "metadata": {
        "colab": {
          "base_uri": "https://localhost:8080/"
        },
        "id": "IowUemAnQF3v",
        "outputId": "a437751d-b517-4665-9cfa-9abf668fa6ca"
      },
      "source": [
        "import sklearn\n",
        "import pandas as pd\n",
        "from sklearn.datasets import load_iris\n",
        "iris=load_iris()\n",
        "print(iris.keys())\n",
        "df=pd.DataFrame(iris['data'])\n",
        "print(df)\n",
        "print(iris['target_names'])\n",
        "print(iris['feature_names'])\n",
        "print(iris['target'])"
      ],
      "execution_count": null,
      "outputs": [
        {
          "output_type": "stream",
          "text": [
            "dict_keys(['data', 'target', 'target_names', 'DESCR', 'feature_names', 'filename'])\n",
            "       0    1    2    3\n",
            "0    5.1  3.5  1.4  0.2\n",
            "1    4.9  3.0  1.4  0.2\n",
            "2    4.7  3.2  1.3  0.2\n",
            "3    4.6  3.1  1.5  0.2\n",
            "4    5.0  3.6  1.4  0.2\n",
            "..   ...  ...  ...  ...\n",
            "145  6.7  3.0  5.2  2.3\n",
            "146  6.3  2.5  5.0  1.9\n",
            "147  6.5  3.0  5.2  2.0\n",
            "148  6.2  3.4  5.4  2.3\n",
            "149  5.9  3.0  5.1  1.8\n",
            "\n",
            "[150 rows x 4 columns]\n",
            "['setosa' 'versicolor' 'virginica']\n",
            "['sepal length (cm)', 'sepal width (cm)', 'petal length (cm)', 'petal width (cm)']\n",
            "[0 0 0 0 0 0 0 0 0 0 0 0 0 0 0 0 0 0 0 0 0 0 0 0 0 0 0 0 0 0 0 0 0 0 0 0 0\n",
            " 0 0 0 0 0 0 0 0 0 0 0 0 0 1 1 1 1 1 1 1 1 1 1 1 1 1 1 1 1 1 1 1 1 1 1 1 1\n",
            " 1 1 1 1 1 1 1 1 1 1 1 1 1 1 1 1 1 1 1 1 1 1 1 1 1 1 2 2 2 2 2 2 2 2 2 2 2\n",
            " 2 2 2 2 2 2 2 2 2 2 2 2 2 2 2 2 2 2 2 2 2 2 2 2 2 2 2 2 2 2 2 2 2 2 2 2 2\n",
            " 2 2]\n"
          ],
          "name": "stdout"
        }
      ]
    },
    {
      "cell_type": "code",
      "metadata": {
        "colab": {
          "base_uri": "https://localhost:8080/"
        },
        "id": "bEUvZ22J3TQg",
        "outputId": "80d0fa88-e288-4f6a-af59-fc6799630d77"
      },
      "source": [
        "X=df\n",
        "y=iris['target']\n",
        "\n",
        "from sklearn.model_selection import train_test_split\n",
        "X_train,X_test,y_train,y_test=train_test_split(X,y,test_size=0.33,random_state=42)\n",
        "\n",
        "from sklearn.neighbors import KNeighborsClassifier\n",
        "knn=KNeighborsClassifier(n_neighbors=3)\n",
        "knn.fit(X_train,y_train)"
      ],
      "execution_count": null,
      "outputs": [
        {
          "output_type": "execute_result",
          "data": {
            "text/plain": [
              "KNeighborsClassifier(algorithm='auto', leaf_size=30, metric='minkowski',\n",
              "                     metric_params=None, n_jobs=None, n_neighbors=3, p=2,\n",
              "                     weights='uniform')"
            ]
          },
          "metadata": {
            "tags": []
          },
          "execution_count": 4
        }
      ]
    },
    {
      "cell_type": "code",
      "metadata": {
        "colab": {
          "base_uri": "https://localhost:8080/"
        },
        "id": "TD_csYVZ4pTN",
        "outputId": "fa7ba192-9033-46fd-d5c5-a09847531805"
      },
      "source": [
        "from sklearn.metrics import confusion_matrix\n",
        "from sklearn.metrics import accuracy_score\n",
        "from sklearn.metrics import classification_report\n",
        "y_pred=knn.predict(X_test)\n",
        "cm=confusion_matrix(y_test,y_pred)\n",
        "print(cm)\n",
        "print(\"Correct prediction\", accuracy_score(y_test,y_pred))\n",
        "print(\"Wrong prediction\", (1-accuracy_score(y_test,y_pred)))\n",
        "\n",
        "\n",
        "\n",
        "y_testtrain=knn.predict(X_train)\n",
        "cm1=confusion_matrix(y_train,y_testtrain)\n",
        "print(cm1)\n",
        "\n",
        "\n"
      ],
      "execution_count": null,
      "outputs": [
        {
          "output_type": "stream",
          "text": [
            "[[19  0  0]\n",
            " [ 0 15  0]\n",
            " [ 0  1 15]]\n",
            "Correct prediction 0.98\n",
            "Wrong prediction 0.020000000000000018\n",
            "[[31  0  0]\n",
            " [ 0 33  2]\n",
            " [ 0  2 32]]\n",
            "0.98\n"
          ],
          "name": "stdout"
        }
      ]
    },
    {
      "cell_type": "code",
      "metadata": {
        "id": "RGTXuwqkdT1O",
        "colab": {
          "base_uri": "https://localhost:8080/"
        },
        "outputId": "549a4b62-b7eb-473a-c77d-2bee71f4aae3"
      },
      "source": [
        "from sklearn.tree import DecisionTreeClassifier\n",
        "svc=DecisionTreeClassifier()\n",
        "svc.fit(X_train,y_train)\n",
        "y_p=svc.predict(X_test)\n",
        "print(accuracy_score(y_p,y_test))"
      ],
      "execution_count": null,
      "outputs": [
        {
          "output_type": "stream",
          "text": [
            "1.0\n"
          ],
          "name": "stdout"
        }
      ]
    }
  ]
}